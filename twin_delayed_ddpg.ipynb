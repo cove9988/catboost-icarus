{
  "nbformat": 4,
  "nbformat_minor": 0,
  "metadata": {
    "colab": {
      "name": "Untitled1.ipynb",
      "provenance": [],
      "authorship_tag": "ABX9TyOiwnbzVODlQb3nzKjS8Lad",
      "include_colab_link": true
    },
    "kernelspec": {
      "name": "python3",
      "display_name": "Python 3"
    },
    "language_info": {
      "name": "python"
    }
  },
  "cells": [
    {
      "cell_type": "markdown",
      "metadata": {
        "id": "view-in-github",
        "colab_type": "text"
      },
      "source": [
        "<a href=\"https://colab.research.google.com/github/cove9988/catboost-icarus/blob/main/twin_delayed_ddpg.ipynb\" target=\"_parent\"><img src=\"https://colab.research.google.com/assets/colab-badge.svg\" alt=\"Open In Colab\"/></a>"
      ]
    },
    {
      "cell_type": "code",
      "metadata": {
        "colab": {
          "base_uri": "https://localhost:8080/"
        },
        "id": "TBnvqMsSAXTZ",
        "outputId": "182409f9-b92a-498f-e676-39a140301ca6"
      },
      "source": [
        "!pip install catboost"
      ],
      "execution_count": null,
      "outputs": [
        {
          "output_type": "stream",
          "name": "stdout",
          "text": [
            "Installing collected packages: catboost\n",
            "Successfully installed catboost-0.26.1\n"
          ]
        }
      ]
    },
    {
      "cell_type": "code",
      "metadata": {
        "id": "5qY_F_lfAfkH"
      },
      "source": [
        "from catboost import CatBoostRegressor\n",
        "# Initialize data\n",
        "\n",
        "train_data = [[1, 4, 5, 6],\n",
        "              [4, 5, 6, 7],\n",
        "              [30, 40, 50, 60]]\n",
        "\n",
        "eval_data = [[2, 4, 6, 8],\n",
        "             [1, 4, 50, 60]]\n",
        "\n",
        "train_labels = [10, 20, 30]\n",
        "# Initialize CatBoostRegressor\n",
        "model = CatBoostRegressor(iterations=2,\n",
        "                          learning_rate=1,\n",
        "                          depth=2)\n"
      ],
      "execution_count": null,
      "outputs": []
    },
    {
      "cell_type": "code",
      "metadata": {
        "colab": {
          "base_uri": "https://localhost:8080/"
        },
        "id": "keYT4-tOQvSL",
        "outputId": "1bd96b3f-7d22-47c6-c4b8-7e927ccc5991"
      },
      "source": [
        "# Fit model\n",
        "model.fit(train_data, train_labels)\n",
        "\n"
      ],
      "execution_count": null,
      "outputs": [
        {
          "output_type": "stream",
          "name": "stdout",
          "text": [
            "0:\tlearn: 6.1237244\ttotal: 120us\tremaining: 120us\n",
            "1:\tlearn: 4.5927933\ttotal: 1.07ms\tremaining: 0us\n"
          ]
        },
        {
          "output_type": "execute_result",
          "data": {
            "text/plain": [
              "<catboost.core.CatBoostRegressor at 0x7f8406fd5b50>"
            ]
          },
          "metadata": {},
          "execution_count": 9
        }
      ]
    },
    {
      "cell_type": "code",
      "metadata": {
        "colab": {
          "base_uri": "https://localhost:8080/"
        },
        "id": "Ej7sddEAL85o",
        "outputId": "c317aa68-4457-4c5f-ac34-9fc7e6785133"
      },
      "source": [
        "# Get predictions\n",
        "preds = model.predict(eval_data)\n",
        "print(preds)"
      ],
      "execution_count": null,
      "outputs": [
        {
          "output_type": "stream",
          "name": "stdout",
          "text": [
            "[15.625 18.125]\n"
          ]
        }
      ]
    }
  ]
}
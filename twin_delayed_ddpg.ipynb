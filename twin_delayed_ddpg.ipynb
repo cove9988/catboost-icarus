{
  "nbformat": 4,
  "nbformat_minor": 0,
  "metadata": {
    "colab": {
      "name": "Untitled1.ipynb",
      "provenance": [],
      "authorship_tag": "ABX9TyNyFo8Tq9WSxXQkA6ZoznRy",
      "include_colab_link": true
    },
    "kernelspec": {
      "name": "python3",
      "display_name": "Python 3"
    },
    "language_info": {
      "name": "python"
    }
  },
  "cells": [
    {
      "cell_type": "markdown",
      "metadata": {
        "id": "view-in-github",
        "colab_type": "text"
      },
      "source": [
        "<a href=\"https://colab.research.google.com/github/cove9988/catboost-icarus/blob/main/twin_delayed_ddpg.ipynb\" target=\"_parent\"><img src=\"https://colab.research.google.com/assets/colab-badge.svg\" alt=\"Open In Colab\"/></a>"
      ]
    },
    {
      "cell_type": "markdown",
      "metadata": {
        "id": "OJXKORTPdjAP"
      },
      "source": [
        "Installing the package"
      ]
    },
    {
      "cell_type": "code",
      "metadata": {
        "colab": {
          "base_uri": "https://localhost:8080/"
        },
        "id": "TBnvqMsSAXTZ",
        "outputId": "500f3b42-5502-49e5-9b6b-33d862eaf4f6"
      },
      "source": [
        "!pip install pybullet"
      ],
      "execution_count": 1,
      "outputs": [
        {
          "output_type": "stream",
          "name": "stdout",
          "text": [
            "Collecting pybullet\n",
            "  Downloading pybullet-3.1.8-cp37-cp37m-manylinux1_x86_64.whl (89.3 MB)\n",
            "\u001b[K     |████████████████████████████████| 89.3 MB 22 kB/s \n",
            "\u001b[?25hInstalling collected packages: pybullet\n",
            "Successfully installed pybullet-3.1.8\n"
          ]
        }
      ]
    },
    {
      "cell_type": "markdown",
      "metadata": {
        "id": "ESh3vAxidn1A"
      },
      "source": [
        "Import libs"
      ]
    },
    {
      "cell_type": "code",
      "metadata": {
        "id": "5qY_F_lfAfkH"
      },
      "source": [
        "import os\n",
        "import time\n",
        "import random\n",
        "import numpy as np\n",
        "import matplotlib.pyplot as plt\n",
        "import pybullet_envs\n",
        "import gym\n",
        "import torch\n",
        "import torch.nn as nn\n",
        "import torch.nn.functional as F\n",
        "from gym import wrappers\n",
        "from torch.autograd import Variable\n",
        "from collections import deque"
      ],
      "execution_count": 6,
      "outputs": []
    },
    {
      "cell_type": "markdown",
      "metadata": {
        "id": "p87eDjpOezWq"
      },
      "source": [
        "Initialize the Experience Replay Memory"
      ]
    },
    {
      "cell_type": "code",
      "metadata": {
        "id": "keYT4-tOQvSL"
      },
      "source": [
        "class ReplayBuffer(object):\n",
        "  def __init__(self, max_size=1e6):\n",
        "    self.storage =[]\n",
        "    self.max_size = max_size\n",
        "    self.prt = 0\n",
        "\n",
        "  def add(self, transition):\n",
        "    if len(self.storage) == self.max_size:\n",
        "      self.storage[int(self.ptr)] = transition\n",
        "      self.prt = (self.ptr + 1) % self.max_size\n",
        "    else:\n",
        "      self.storage.append(transition)\n",
        "\n",
        "  def sample(self, batch_size):\n",
        "    ind = np.random.randint(0,len(self.storage),batch_size)\n",
        "    batch_states, batch_next_states, batch_actions, batch_rewards, batch_dones = [],[],[],[],[]\n",
        "    for i in ind:\n",
        "      state,next_state,action,reward,done =self.storage[i]\n",
        "      batch_next_states.append(np.array(next_state,copy=False))\n",
        "      batch_actions.append(np.array(action,copy=False))\n",
        "      batch_rewards.append(np.array(reward,copy=False))\n",
        "      batch_dones.append(np.array(done,copy=False))\n",
        "    return np.array(batch_states), np.array(batch_next_states), np.array(batch_actions), np.array(batch_rewards).reshape[-1,1], np.array(batch_dones).reshape[-1,1]\n",
        "\n"
      ],
      "execution_count": 4,
      "outputs": []
    },
    {
      "cell_type": "markdown",
      "metadata": {
        "id": "4y_INJVJiv28"
      },
      "source": [
        "### Actor|Critic Model/Target\n",
        "This can be improved a better supper class"
      ]
    },
    {
      "cell_type": "code",
      "metadata": {
        "id": "6Qu393TCitjr"
      },
      "source": [
        "class Actor(nn.Module):\n",
        "  def __init__(self, state_dim, action_dim,max_action):\n",
        "    hiden_layer_in,hiden_layer_out  = 400,300\n",
        "    super(Actor, self).__init__()\n",
        "    self.layer_1 = nn.Linear(stat_dim, hiden_layer_in)\n",
        "    self.layer_2 = nn.Linear(hiden_layer_in,hiden_layer_out)\n",
        "    self.layer_3 = nn.Linear(hiden_layer_out,action_dim)\n",
        "    self.max_action = max_action\n",
        "\n",
        "  def forward(self, x):\n",
        "    x = F.relu(self.layer_1(x))\n",
        "    x = F.relu(self.layer_2(x))\n",
        "    x = self.max_action * torch.tanh(self.layer_3(x))\n",
        "    return x\n",
        "\n",
        "class Critic(nn.Module):\n",
        "  def __init__(self, state_dim, action_dim,):\n",
        "    hiden_layer_in,hiden_layer_out  = 400,300\n",
        "    super(Critic, self).__init__()\n",
        "    self.layer_11 = nn.Linear(stat_dim, hiden_layer_in)\n",
        "    self.layer_12 = nn.Linear(hiden_layer_in,hiden_layer_out)\n",
        "    self.layer_13 = nn.Linear(hiden_layer_out,1)\n",
        "    \n",
        "    self.layer_21 = nn.Linear(stat_dim, hiden_layer_in)\n",
        "    self.layer_22 = nn.Linear(hiden_layer_in,hiden_layer_out)\n",
        "    self.layer_23 = nn.Linear(hiden_layer_out,1)\n",
        "\n",
        "  def forward(self, x, u):\n",
        "    xu = torch.cat([x,y],1)\n",
        "\n",
        "    x1 = F.relu(self.layer_11(xu))\n",
        "    x1 = F.relu(self.layer_12(x1))\n",
        "    x1 = self.layer_13(x1)\n",
        "\n",
        "    x2 = F.relu(self.layer_21(xu))\n",
        "    x2 = F.relu(self.layer_22(x2))\n",
        "    x2 = self.layer_23(x2)\n",
        "    return x1, x2  \n",
        "\n",
        "  def Q1(self, x, u):\n",
        "    xu = torch.cat([x,y],1)\n",
        "\n",
        "    x1 = F.relu(self.layer_11(xu))\n",
        "    x1 = F.relu(self.layer_12(x1))\n",
        "    x1 = self.layer_13(x1)\n",
        "    return x1"
      ],
      "execution_count": 7,
      "outputs": []
    },
    {
      "cell_type": "markdown",
      "metadata": {
        "id": "rHShe_pkn6Wn"
      },
      "source": [
        "Training"
      ]
    },
    {
      "cell_type": "code",
      "metadata": {
        "id": "Ej7sddEAL85o"
      },
      "source": [
        "# selecting the device (CPU or GPU)\n",
        "device = torch.device(\"cuda\" if torch.cuda.is_available() else \"cpu\")\n",
        "# build the whole training proccess into a class\n",
        "class TD3():\n",
        "  def __init__(self, state_dim, action_dim,max_action):\n",
        "    self.actor = Actor(state_dim, action_dim,max_action).to(device)\n",
        "    self.actor_target = Actor(state_dim, action_dim,max_action).to(device)\n",
        "    self.actor_target.load_state_dict(self.actor.state_dict())\n",
        "    self.actor_optimizer = torch.optim.Adam(self.actor.parameters())\n",
        "\n",
        "    self.critic = Critic(state_dim, action_dim).to(device)\n",
        "    self.critic_target = Critic(state_dim, action_dim).to(device)\n",
        "    self.critic_target.load_state_dict(self.critic.state_dict())\n",
        "    self.critic_optimizer = torch.optim.Adam(self.critic.parameters())\n",
        "\n",
        "    self.max_action = max_action\n",
        "\n",
        "  def select_action(self, state):\n",
        "    state = torch.Tensor(state.reshape(1,-1)).to(device)\n",
        "    return self.actor(state).cpu().data.numpy.flatten()\n",
        "\n",
        "  def train(self, replay_buffer, iteration, batch_size=100, discount=0.99, tau=0.005, policy_noise=0.2, noise_clip=0.5, policy_freq=2):\n",
        "    for it in range(iteration):\n",
        "      # Resample batch of transitions\n",
        "      batch_states,batch_next_states,batch_actions,batch_rewards,batch_dones = replay_buffer.sample(batch_size)\n",
        "      state = torch.Tensor(batch_states).to(device)\n",
        "      next_state = torch.Tensor(batch_next_states).to(device)\n",
        "      action = torch.Tensor(batch_actions).to(device)\n",
        "      reward = torch.Tensor(batch_rewards).to(device)\n",
        "      done = torch.Tensor(batch_dones).to(device)\n",
        "\n",
        "      # From the next state s', the Actor target plays to the next action a'\n",
        "      next_action = self.actor_target.forward(next_state)\n",
        "\n",
        "      \n"
      ],
      "execution_count": 8,
      "outputs": []
    }
  ]
}